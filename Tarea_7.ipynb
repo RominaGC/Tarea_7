{
 "cells": [
  {
   "cell_type": "markdown",
   "metadata": {},
   "source": [
    "<img style=\"float: left; margin: 30px 15px 15px 15px;\" src=\"https://pngimage.net/wp-content/uploads/2018/06/logo-iteso-png-5.png\" width=\"300\" height=\"500\" /> \n",
    "    \n",
    "    \n",
    "### <font color='navy'> Simulación de procesos financieros. \n",
    "\n",
    "**Nombres:** Romina Gutiérrez Cortés\n",
    "\n",
    "**Fecha:** 24 de octubre del 2020.\n",
    "\n",
    "**Expediente** : 713415.\n",
    "**Profesor:** Oscar David Jaramillo Zuluaga.\n",
    "\n",
    "# Tarea 7: Clase 14"
   ]
  },
  {
   "cell_type": "markdown",
   "metadata": {},
   "source": [
    "# Tarea \n",
    "\n",
    "Aproxime el valor de la siguiente integral usando el método monte carlo crudo y método de reducción de varianza de muestreo estratíficado\n",
    "\n",
    "$$I=\\int_{0}^{1}x^2\\text{d}x=\\left.\\frac{x^3}{3}\\right|_{x=0}^{x=1}=\\frac{1}{3}\\approx 0.33333$$\n",
    "\n",
    "Pasos\n",
    "1. Cree una función que realice el método de muestreo estratíficado, recibiendo como único parámetro de entrada la cantidad de estratos y retornando las variables estratíficadas correspondientes.\n",
    "2. Reporte los resultados de la aproximación de la integral usando montecarlo crudo y muestreo estratíficado, en un Dataframe con la información mostrada en la siguiente imagen:\n",
    "![imagen.png](attachment:imagen.png)"
   ]
  },
  {
   "cell_type": "code",
   "execution_count": 3,
   "metadata": {},
   "outputs": [],
   "source": [
    "import numpy as np\n",
    "import scipy.stats as st\n",
    "import pandas as pd\n"
   ]
  },
  {
   "cell_type": "code",
   "execution_count": 9,
   "metadata": {},
   "outputs": [],
   "source": [
    "def int_montecarlo(f:'Funcion', a:'Limite inferior', b:'Limite superior', u:'Numeros aleatorios U~[a,b]'):\n",
    "    '''Esta funcion lo que hace es integrar una funcion F con limites de A a B dado una cantidad de numeros aleatorios uniformes U.'''\n",
    "    return (b-a) / len(u) * np.sum(f(u))"
   ]
  },
  {
   "cell_type": "code",
   "execution_count": 52,
   "metadata": {},
   "outputs": [],
   "source": [
    "\n",
    "I = 1/3\n",
    "# intervalo de integración\n",
    "a = 0; b = 1\n",
    "N = np.logspace(1,7,7,dtype=int)\n",
    "df = pd.DataFrame(index=N,columns=['Valor_aproximacion Crudo', 'Error_relativo% Crudo'], dtype='float')\n",
    "df.index.name = \"Cantidad_terminos\"\n",
    "ui = list(map(lambda N:np.random.rand(N),N))\n",
    "I_m = list(map(lambda Y:int_montecarlo(lambda x:x**2,a,b,Y),ui))\n",
    "df.loc[N,\"Valor_aproximacion Crudo\"] = I_m\n",
    "df.loc[N,\"Error_relativo% Crudo\"] = np.abs(df.loc[N,\"Valor_aproximacion Crudo\"]-I)*100/I"
   ]
  },
  {
   "cell_type": "code",
   "execution_count": 53,
   "metadata": {},
   "outputs": [
    {
     "data": {
      "text/html": [
       "<div>\n",
       "<style scoped>\n",
       "    .dataframe tbody tr th:only-of-type {\n",
       "        vertical-align: middle;\n",
       "    }\n",
       "\n",
       "    .dataframe tbody tr th {\n",
       "        vertical-align: top;\n",
       "    }\n",
       "\n",
       "    .dataframe thead th {\n",
       "        text-align: right;\n",
       "    }\n",
       "</style>\n",
       "<table border=\"1\" class=\"dataframe\">\n",
       "  <thead>\n",
       "    <tr style=\"text-align: right;\">\n",
       "      <th></th>\n",
       "      <th>Valor_aproximacion Crudo</th>\n",
       "      <th>Error_relativo% Crudo</th>\n",
       "      <th>Valor_aproximacion Estratificado</th>\n",
       "      <th>Error_relativo% Estratificado</th>\n",
       "    </tr>\n",
       "    <tr>\n",
       "      <th>Cantidad_terminos</th>\n",
       "      <th></th>\n",
       "      <th></th>\n",
       "      <th></th>\n",
       "      <th></th>\n",
       "    </tr>\n",
       "  </thead>\n",
       "  <tbody>\n",
       "    <tr>\n",
       "      <th>10</th>\n",
       "      <td>0.325857</td>\n",
       "      <td>2.242835</td>\n",
       "      <td>0.322049</td>\n",
       "      <td>3.385229e+00</td>\n",
       "    </tr>\n",
       "    <tr>\n",
       "      <th>100</th>\n",
       "      <td>0.297341</td>\n",
       "      <td>10.797840</td>\n",
       "      <td>0.333198</td>\n",
       "      <td>4.049479e-02</td>\n",
       "    </tr>\n",
       "    <tr>\n",
       "      <th>1000</th>\n",
       "      <td>0.316992</td>\n",
       "      <td>4.902347</td>\n",
       "      <td>0.333325</td>\n",
       "      <td>2.493822e-03</td>\n",
       "    </tr>\n",
       "    <tr>\n",
       "      <th>10000</th>\n",
       "      <td>0.340138</td>\n",
       "      <td>2.041409</td>\n",
       "      <td>0.333334</td>\n",
       "      <td>1.448510e-04</td>\n",
       "    </tr>\n",
       "    <tr>\n",
       "      <th>100000</th>\n",
       "      <td>0.334524</td>\n",
       "      <td>0.357241</td>\n",
       "      <td>0.333333</td>\n",
       "      <td>1.133609e-06</td>\n",
       "    </tr>\n",
       "    <tr>\n",
       "      <th>1000000</th>\n",
       "      <td>0.333482</td>\n",
       "      <td>0.044588</td>\n",
       "      <td>0.333333</td>\n",
       "      <td>1.112678e-07</td>\n",
       "    </tr>\n",
       "    <tr>\n",
       "      <th>10000000</th>\n",
       "      <td>0.333211</td>\n",
       "      <td>0.036707</td>\n",
       "      <td>0.333333</td>\n",
       "      <td>2.271017e-10</td>\n",
       "    </tr>\n",
       "  </tbody>\n",
       "</table>\n",
       "</div>"
      ],
      "text/plain": [
       "                   Valor_aproximacion Crudo  Error_relativo% Crudo  \\\n",
       "Cantidad_terminos                                                    \n",
       "10                                 0.325857               2.242835   \n",
       "100                                0.297341              10.797840   \n",
       "1000                               0.316992               4.902347   \n",
       "10000                              0.340138               2.041409   \n",
       "100000                             0.334524               0.357241   \n",
       "1000000                            0.333482               0.044588   \n",
       "10000000                           0.333211               0.036707   \n",
       "\n",
       "                   Valor_aproximacion Estratificado  \\\n",
       "Cantidad_terminos                                     \n",
       "10                                         0.322049   \n",
       "100                                        0.333198   \n",
       "1000                                       0.333325   \n",
       "10000                                      0.333334   \n",
       "100000                                     0.333333   \n",
       "1000000                                    0.333333   \n",
       "10000000                                   0.333333   \n",
       "\n",
       "                   Error_relativo% Estratificado  \n",
       "Cantidad_terminos                                 \n",
       "10                                  3.385229e+00  \n",
       "100                                 4.049479e-02  \n",
       "1000                                2.493822e-03  \n",
       "10000                               1.448510e-04  \n",
       "100000                              1.133609e-06  \n",
       "1000000                             1.112678e-07  \n",
       "10000000                            2.271017e-10  "
      ]
     },
     "execution_count": 53,
     "metadata": {},
     "output_type": "execute_result"
    }
   ],
   "source": [
    "def estratos():\n",
    "    def est(n:\"Numero de estratos\"):\n",
    "        '''Esta funcion nos genera una muestra estratificada con n estratos'''\n",
    "        u=np.random.rand(n)\n",
    "        i=np.arange(0,n)\n",
    "        v=(u+i)/n\n",
    "        return v\n",
    "    N = np.logspace(1,7,7,dtype=int) \n",
    "    ui=list(map(lambda x:est(x),N)) \n",
    "    I_e = list(map(lambda Y:int_montecarlo(lambda x:x**2,a,b,Y),ui)) \n",
    "    return I_e\n",
    "I_e=estratos()\n",
    "df.loc[N,\"Valor_aproximacion Estratificado\"] = I_e\n",
    "df.loc[N,\"Error_relativo% Estratificado\"] = np.abs(df.loc[N,\"Valor_aproximacion Estratificado\"]-I)*100/I\n",
    "df"
   ]
  },
  {
   "cell_type": "markdown",
   "metadata": {},
   "source": [
    "## Ejercicio 2\n",
    "> Consider the probability distribution whose probability density function is \n",
    "\n",
    "$$ f(x) =\n",
    "  \\begin{cases}\n",
    "    {\\frac{3}{2}x^2}       & \\text{if }-1\\leq x \\leq 1\\\\\n",
    "    0  &  otherwise\n",
    "  \\end{cases}\n",
    "$$\n",
    "\n",
    "The problem is to perform a simulated experiment, with the help of variance-reducing techniques, for estimating the mean of this distribution. To provide a standard of comparison, also derive the mean analytically.\n",
    "For each of the following cases, use the same 10 uniform random numbers (obtained as instructed at the beginning of the problems section) to generate random observations, and calculate the resulting estimate of the means.\n",
    "* a) Use the crude Monte Carlo technique.\n",
    "* b) Use the stratified sampling with three strata $0 \\leq F(x) \\leq 0.6 , \\ 0.6 \\leq F(x) \\leq 0.9\\ and \\ 0.9 < F(x) \\leq 1$ with 3, 3, and 4 observations respectively.\n",
    "* c) Use the method of complementary random numbers\n",
    "\n",
    "Además use el método de estratificación donde se divide en B estratos, visto la clase pasada y compare el resultado con los métodos anteriores cuando se toman $2,4,6,10$ estratos respectivamente, concluya."
   ]
  },
  {
   "cell_type": "code",
   "execution_count": 20,
   "metadata": {},
   "outputs": [
    {
     "name": "stdout",
     "output_type": "stream",
     "text": [
      "La media con montecarlo crudo es de 0.15697612916795828\n"
     ]
    }
   ],
   "source": [
    "#A\n",
    "np.random.seed(555)\n",
    "fx = lambda x: 3/2*x**2 if -1 <= x <= 1 else 0 # definir r \n",
    "Fi = lambda u: (2*(u-0.5))**(1/3) if u > 0.5 else -(2*(0.5-u))**(1/3)\n",
    "N = 10\n",
    "num = np.random.uniform(0, 1, N) \n",
    "var_aleatorias = [Fi(n) for n in num]\n",
    "print('La media con montecarlo crudo es de',np.array(var_aleatorias).mean())"
   ]
  },
  {
   "cell_type": "code",
   "execution_count": 53,
   "metadata": {},
   "outputs": [
    {
     "name": "stdout",
     "output_type": "stream",
     "text": [
      "La media con estratificados en diferentes intervalos es de -0.1321875600796283\n"
     ]
    }
   ],
   "source": [
    "# B\n",
    "r1 = np.random.uniform(0,0.6,3)\n",
    "r2 = np.random.uniform(0.6,0.9,3)\n",
    "r3 = np.random.uniform(0.9,1,4)\n",
    "# Los almacenamos en una lista\n",
    "r  = [r1,r2,r3]\n",
    "# Cantidad de estratos\n",
    "m  = range(len(r)) \n",
    "# Pesos de cada estrato\n",
    "w  = [1/2,1,4]\n",
    "\n",
    "xi = [np.asarray([Fi(x) for x in ri]) for ri in r]\n",
    "xiwi = list(map(lambda x, wi: x/wi,xi, w)) \n",
    "muestras = np.concatenate(xiwi)\n",
    "print('La media con estratificados en diferentes intervalos es de', muestras.mean())"
   ]
  },
  {
   "cell_type": "code",
   "execution_count": 56,
   "metadata": {},
   "outputs": [
    {
     "name": "stdout",
     "output_type": "stream",
     "text": [
      "La media con numeros complementarios es de 0.0\n"
     ]
    }
   ],
   "source": [
    "#C\n",
    "np.random.seed(555)\n",
    "U = np.random.uniform(0,1,5)\n",
    "FU = np.array([Fi(u) for u in U])\n",
    "U2 = 1-U\n",
    "FU2 = np.array([Fi(u) for u in U2])\n",
    "\n",
    "print('La media con numeros complementarios es de', (FU.mean()+FU2.mean())/2)"
   ]
  },
  {
   "cell_type": "code",
   "execution_count": 146,
   "metadata": {},
   "outputs": [
    {
     "name": "stdout",
     "output_type": "stream",
     "text": [
      "La media con 2 estratos igualmente espaciados es de -0.14641883090847083\n",
      "La media con 4 estratos igualmente espaciados es de 0.03619349170473102\n",
      "La media con 6 estratos igualmente espaciados es de -0.008075897794051545\n",
      "La media con 10 estratos igualmente espaciados es de -0.004503997440142104\n"
     ]
    }
   ],
   "source": [
    "np.random.seed(555)\n",
    "def met_estratificado(N: 'Cantidad de estratos'):\n",
    "    B = N \n",
    "    U = np.random.rand(B)\n",
    "    i = np.arange(0,B)\n",
    "    strat = (U+i)/B\n",
    "    return strat\n",
    "\n",
    "B = np.array([2,4,6,10])\n",
    "var = [met_estratificado(Bi) for Bi in B]\n",
    "strat = [[Fi(xi) for xi in x] for x in var]\n",
    "\n",
    "print('La media con 2 estratos igualmente espaciados es de', np.array(strat[0]).mean())\n",
    "print('La media con 4 estratos igualmente espaciados es de', np.array(strat[1]).mean())\n",
    "print('La media con 6 estratos igualmente espaciados es de', np.array(strat[2]).mean())\n",
    "print('La media con 10 estratos igualmente espaciados es de', np.array(strat[3]).mean())"
   ]
  }
 ],
 "metadata": {
  "kernelspec": {
   "display_name": "Python 3",
   "language": "python",
   "name": "python3"
  },
  "language_info": {
   "codemirror_mode": {
    "name": "ipython",
    "version": 3
   },
   "file_extension": ".py",
   "mimetype": "text/x-python",
   "name": "python",
   "nbconvert_exporter": "python",
   "pygments_lexer": "ipython3",
   "version": "3.8.3"
  }
 },
 "nbformat": 4,
 "nbformat_minor": 4
}
